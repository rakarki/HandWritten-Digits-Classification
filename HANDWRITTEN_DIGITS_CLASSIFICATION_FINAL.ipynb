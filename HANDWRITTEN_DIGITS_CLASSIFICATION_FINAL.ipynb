{
 "cells": [
  {
   "cell_type": "code",
   "execution_count": 1,
   "metadata": {},
   "outputs": [],
   "source": [
    "## Problem Statement:- To Classify Handwritten Digits (0-9)."
   ]
  },
  {
   "cell_type": "code",
   "execution_count": 2,
   "metadata": {
    "executionInfo": {
     "elapsed": 303,
     "status": "ok",
     "timestamp": 1645601549467,
     "user": {
      "displayName": "Ismail Khan",
      "photoUrl": "https://lh3.googleusercontent.com/a-/AOh14Gj9Ihtw3wqM33OubLpti-4x4ZuNu85usnNKtDJAVw=s64",
      "userId": "07423027645011472348"
     },
     "user_tz": -660
    },
    "id": "QRf49EXIXPf7"
   },
   "outputs": [],
   "source": [
    "# Importing important libraries\n",
    "import numpy as np\n",
    "import matplotlib.pyplot as plt\n",
    "%matplotlib inline\n",
    "import pandas as pd\n",
    "import seaborn as sns\n",
    "#!pip install tensorflow\n",
    "import tensorflow as tf\n",
    "import random\n",
    "\n",
    "from tensorflow import keras\n",
    "from keras.datasets import mnist # to fetch mnist dataset\n",
    "\n",
    "from tensorflow.keras.optimizers import Adam\n",
    "from keras.utils.np_utils import to_categorical\n",
    "from tensorflow.keras.models import Sequential\n",
    "from tensorflow.keras.layers import Dense, Dropout, Activation, Flatten, Conv2D, MaxPooling2D\n",
    "from tensorflow.keras.preprocessing.image import ImageDataGenerator"
   ]
  },
  {
   "cell_type": "code",
   "execution_count": 3,
   "metadata": {
    "executionInfo": {
     "elapsed": 1142,
     "status": "ok",
     "timestamp": 1645601581123,
     "user": {
      "displayName": "Ismail Khan",
      "photoUrl": "https://lh3.googleusercontent.com/a-/AOh14Gj9Ihtw3wqM33OubLpti-4x4ZuNu85usnNKtDJAVw=s64",
      "userId": "07423027645011472348"
     },
     "user_tz": -660
    },
    "id": "Axc7Kyd7S4mv"
   },
   "outputs": [
    {
     "data": {
      "text/plain": [
       "((array([[[0, 0, 0, ..., 0, 0, 0],\n",
       "          [0, 0, 0, ..., 0, 0, 0],\n",
       "          [0, 0, 0, ..., 0, 0, 0],\n",
       "          ...,\n",
       "          [0, 0, 0, ..., 0, 0, 0],\n",
       "          [0, 0, 0, ..., 0, 0, 0],\n",
       "          [0, 0, 0, ..., 0, 0, 0]],\n",
       "  \n",
       "         [[0, 0, 0, ..., 0, 0, 0],\n",
       "          [0, 0, 0, ..., 0, 0, 0],\n",
       "          [0, 0, 0, ..., 0, 0, 0],\n",
       "          ...,\n",
       "          [0, 0, 0, ..., 0, 0, 0],\n",
       "          [0, 0, 0, ..., 0, 0, 0],\n",
       "          [0, 0, 0, ..., 0, 0, 0]],\n",
       "  \n",
       "         [[0, 0, 0, ..., 0, 0, 0],\n",
       "          [0, 0, 0, ..., 0, 0, 0],\n",
       "          [0, 0, 0, ..., 0, 0, 0],\n",
       "          ...,\n",
       "          [0, 0, 0, ..., 0, 0, 0],\n",
       "          [0, 0, 0, ..., 0, 0, 0],\n",
       "          [0, 0, 0, ..., 0, 0, 0]],\n",
       "  \n",
       "         ...,\n",
       "  \n",
       "         [[0, 0, 0, ..., 0, 0, 0],\n",
       "          [0, 0, 0, ..., 0, 0, 0],\n",
       "          [0, 0, 0, ..., 0, 0, 0],\n",
       "          ...,\n",
       "          [0, 0, 0, ..., 0, 0, 0],\n",
       "          [0, 0, 0, ..., 0, 0, 0],\n",
       "          [0, 0, 0, ..., 0, 0, 0]],\n",
       "  \n",
       "         [[0, 0, 0, ..., 0, 0, 0],\n",
       "          [0, 0, 0, ..., 0, 0, 0],\n",
       "          [0, 0, 0, ..., 0, 0, 0],\n",
       "          ...,\n",
       "          [0, 0, 0, ..., 0, 0, 0],\n",
       "          [0, 0, 0, ..., 0, 0, 0],\n",
       "          [0, 0, 0, ..., 0, 0, 0]],\n",
       "  \n",
       "         [[0, 0, 0, ..., 0, 0, 0],\n",
       "          [0, 0, 0, ..., 0, 0, 0],\n",
       "          [0, 0, 0, ..., 0, 0, 0],\n",
       "          ...,\n",
       "          [0, 0, 0, ..., 0, 0, 0],\n",
       "          [0, 0, 0, ..., 0, 0, 0],\n",
       "          [0, 0, 0, ..., 0, 0, 0]]], dtype=uint8),\n",
       "  array([5, 0, 4, ..., 5, 6, 8], dtype=uint8)),\n",
       " (array([[[0, 0, 0, ..., 0, 0, 0],\n",
       "          [0, 0, 0, ..., 0, 0, 0],\n",
       "          [0, 0, 0, ..., 0, 0, 0],\n",
       "          ...,\n",
       "          [0, 0, 0, ..., 0, 0, 0],\n",
       "          [0, 0, 0, ..., 0, 0, 0],\n",
       "          [0, 0, 0, ..., 0, 0, 0]],\n",
       "  \n",
       "         [[0, 0, 0, ..., 0, 0, 0],\n",
       "          [0, 0, 0, ..., 0, 0, 0],\n",
       "          [0, 0, 0, ..., 0, 0, 0],\n",
       "          ...,\n",
       "          [0, 0, 0, ..., 0, 0, 0],\n",
       "          [0, 0, 0, ..., 0, 0, 0],\n",
       "          [0, 0, 0, ..., 0, 0, 0]],\n",
       "  \n",
       "         [[0, 0, 0, ..., 0, 0, 0],\n",
       "          [0, 0, 0, ..., 0, 0, 0],\n",
       "          [0, 0, 0, ..., 0, 0, 0],\n",
       "          ...,\n",
       "          [0, 0, 0, ..., 0, 0, 0],\n",
       "          [0, 0, 0, ..., 0, 0, 0],\n",
       "          [0, 0, 0, ..., 0, 0, 0]],\n",
       "  \n",
       "         ...,\n",
       "  \n",
       "         [[0, 0, 0, ..., 0, 0, 0],\n",
       "          [0, 0, 0, ..., 0, 0, 0],\n",
       "          [0, 0, 0, ..., 0, 0, 0],\n",
       "          ...,\n",
       "          [0, 0, 0, ..., 0, 0, 0],\n",
       "          [0, 0, 0, ..., 0, 0, 0],\n",
       "          [0, 0, 0, ..., 0, 0, 0]],\n",
       "  \n",
       "         [[0, 0, 0, ..., 0, 0, 0],\n",
       "          [0, 0, 0, ..., 0, 0, 0],\n",
       "          [0, 0, 0, ..., 0, 0, 0],\n",
       "          ...,\n",
       "          [0, 0, 0, ..., 0, 0, 0],\n",
       "          [0, 0, 0, ..., 0, 0, 0],\n",
       "          [0, 0, 0, ..., 0, 0, 0]],\n",
       "  \n",
       "         [[0, 0, 0, ..., 0, 0, 0],\n",
       "          [0, 0, 0, ..., 0, 0, 0],\n",
       "          [0, 0, 0, ..., 0, 0, 0],\n",
       "          ...,\n",
       "          [0, 0, 0, ..., 0, 0, 0],\n",
       "          [0, 0, 0, ..., 0, 0, 0],\n",
       "          [0, 0, 0, ..., 0, 0, 0]]], dtype=uint8),\n",
       "  array([7, 2, 1, ..., 4, 5, 6], dtype=uint8)))"
      ]
     },
     "execution_count": 3,
     "metadata": {},
     "output_type": "execute_result"
    }
   ],
   "source": [
    "# Get the working directory path\n",
    "import os\n",
    "current_dir = os.getcwd()\n",
    "\n",
    "# Load the data from mnist .\n",
    "mnist.load_data()      # .load data() method returns both training and testing dataset."
   ]
  },
  {
   "cell_type": "code",
   "execution_count": 4,
   "metadata": {},
   "outputs": [],
   "source": [
    "# Split the data into train and test data.\n",
    "(x_train, y_train), (x_test, y_test) = mnist.load_data()"
   ]
  },
  {
   "cell_type": "markdown",
   "metadata": {},
   "source": [
    "## About Dataset\n",
    "This MNIST (Modified National Institute of Standards and Tecnology) database of Handwritten Digits.\n",
    "The full dataset consist of 60,000 training samples and 10,000 test samples of images that is 28*28 pixels wide."
   ]
  },
  {
   "cell_type": "code",
   "execution_count": 5,
   "metadata": {},
   "outputs": [],
   "source": [
    "## BASIC CHECK"
   ]
  },
  {
   "cell_type": "code",
   "execution_count": 6,
   "metadata": {},
   "outputs": [
    {
     "name": "stdout",
     "output_type": "stream",
     "text": [
      "(60000, 28, 28)\n",
      "(10000, 28, 28)\n"
     ]
    }
   ],
   "source": [
    "# To know shape of data.\n",
    "print(x_train.shape)\n",
    "print(x_test.shape)"
   ]
  },
  {
   "cell_type": "markdown",
   "metadata": {},
   "source": [
    "### Here 28*28 pixel image data is splitted into 60000 train data and 10000 test data."
   ]
  },
  {
   "cell_type": "code",
   "execution_count": 7,
   "metadata": {},
   "outputs": [],
   "source": [
    "## EDA"
   ]
  },
  {
   "cell_type": "code",
   "execution_count": 8,
   "metadata": {
    "colab": {
     "base_uri": "https://localhost:8080/",
     "height": 265
    },
    "executionInfo": {
     "elapsed": 6,
     "status": "ok",
     "timestamp": 1645601585143,
     "user": {
      "displayName": "Ismail Khan",
      "photoUrl": "https://lh3.googleusercontent.com/a-/AOh14Gj9Ihtw3wqM33OubLpti-4x4ZuNu85usnNKtDJAVw=s64",
      "userId": "07423027645011472348"
     },
     "user_tz": -660
    },
    "id": "qVzpiVqNgziQ",
    "outputId": "4893e4bf-354f-4ece-8726-4b867529a662"
   },
   "outputs": [
    {
     "data": {
      "image/png": "[encoded data removed]",
      "text/plain": [
       "<Figure size 432x288 with 1 Axes>"
      ]
     },
     "metadata": {
      "needs_background": "light"
     },
     "output_type": "display_data"
    }
   ],
   "source": [
    "# to display the image .imshow() method is used.\n",
    "plt.imshow(x_train[4000]) \n",
    "plt.show()"
   ]
  },
  {
   "cell_type": "code",
   "execution_count": 9,
   "metadata": {
    "colab": {
     "base_uri": "https://localhost:8080/",
     "height": 284
    },
    "executionInfo": {
     "elapsed": 1172,
     "status": "ok",
     "timestamp": 1645601589187,
     "user": {
      "displayName": "Ismail Khan",
      "photoUrl": "https://lh3.googleusercontent.com/a-/AOh14Gj9Ihtw3wqM33OubLpti-4x4ZuNu85usnNKtDJAVw=s64",
      "userId": "07423027645011472348"
     },
     "user_tz": -660
    },
    "id": "ToaB5k-QUaQa",
    "outputId": "7680d9a0-5fd9-456e-80ba-fc9c99505f5b"
   },
   "outputs": [
    {
     "name": "stdout",
     "output_type": "stream",
     "text": [
      "2\n"
     ]
    },
    {
     "data": {
      "image/png": "[encoded data removed]",
      "text/plain": [
       "<Figure size 432x288 with 1 Axes>"
      ]
     },
     "metadata": {
      "needs_background": "light"
     },
     "output_type": "display_data"
    }
   ],
   "source": [
    "#checking the graph how does the data look like\n",
    "plt.imshow(x_train[5],cmap =plt.cm.binary) #this is binary image and its size is 28*28\n",
    "print(y_train[5]) # To print the label of x_train image"
   ]
  },
  {
   "cell_type": "code",
   "execution_count": 10,
   "metadata": {
    "id": "5hlCBF-SWUMR"
   },
   "outputs": [
    {
     "name": "stdout",
     "output_type": "stream",
     "text": [
      "[[  0   0   0   0   0   0   0   0   0   0   0   0   0   0   0   0   0   0\n",
      "    0   0   0   0   0   0   0   0   0   0]\n",
      " [  0   0   0   0   0   0   0   0   0   0   0   0   0   0   0   0   0   0\n",
      "    0   0   0   0   0   0   0   0   0   0]\n",
      " [  0   0   0   0   0   0   0   0   0   0   0   0   0   0   0   0   0   0\n",
      "    0   0   0   0   0   0   0   0   0   0]\n",
      " [  0   0   0   0   0   0   0   0   0   0   0   0   0   0   0   0   0   0\n",
      "    0   0   0   0   0   0   0   0   0   0]\n",
      " [  0   0   0   0   0   0   0   0   0   0   0   0   0   0   0   0   0   0\n",
      "    0   0   0   0   0   0   0   0   0   0]\n",
      " [  0   0   0   0   0   0   0   0   0   0   0   0   3  18  18  18 126 136\n",
      "  175  26 166 255 247 127   0   0   0   0]\n",
      " [  0   0   0   0   0   0   0   0  30  36  94 154 170 253 253 253 253 253\n",
      "  225 172 253 242 195  64   0   0   0   0]\n",
      " [  0   0   0   0   0   0   0  49 238 253 253 253 253 253 253 253 253 251\n",
      "   93  82  82  56  39   0   0   0   0   0]\n",
      " [  0   0   0   0   0   0   0  18 219 253 253 253 253 253 198 182 247 241\n",
      "    0   0   0   0   0   0   0   0   0   0]\n",
      " [  0   0   0   0   0   0   0   0  80 156 107 253 253 205  11   0  43 154\n",
      "    0   0   0   0   0   0   0   0   0   0]\n",
      " [  0   0   0   0   0   0   0   0   0  14   1 154 253  90   0   0   0   0\n",
      "    0   0   0   0   0   0   0   0   0   0]\n",
      " [  0   0   0   0   0   0   0   0   0   0   0 139 253 190   2   0   0   0\n",
      "    0   0   0   0   0   0   0   0   0   0]\n",
      " [  0   0   0   0   0   0   0   0   0   0   0  11 190 253  70   0   0   0\n",
      "    0   0   0   0   0   0   0   0   0   0]\n",
      " [  0   0   0   0   0   0   0   0   0   0   0   0  35 241 225 160 108   1\n",
      "    0   0   0   0   0   0   0   0   0   0]\n",
      " [  0   0   0   0   0   0   0   0   0   0   0   0   0  81 240 253 253 119\n",
      "   25   0   0   0   0   0   0   0   0   0]\n",
      " [  0   0   0   0   0   0   0   0   0   0   0   0   0   0  45 186 253 253\n",
      "  150  27   0   0   0   0   0   0   0   0]\n",
      " [  0   0   0   0   0   0   0   0   0   0   0   0   0   0   0  16  93 252\n",
      "  253 187   0   0   0   0   0   0   0   0]\n",
      " [  0   0   0   0   0   0   0   0   0   0   0   0   0   0   0   0   0 249\n",
      "  253 249  64   0   0   0   0   0   0   0]\n",
      " [  0   0   0   0   0   0   0   0   0   0   0   0   0   0  46 130 183 253\n",
      "  253 207   2   0   0   0   0   0   0   0]\n",
      " [  0   0   0   0   0   0   0   0   0   0   0   0  39 148 229 253 253 253\n",
      "  250 182   0   0   0   0   0   0   0   0]\n",
      " [  0   0   0   0   0   0   0   0   0   0  24 114 221 253 253 253 253 201\n",
      "   78   0   0   0   0   0   0   0   0   0]\n",
      " [  0   0   0   0   0   0   0   0  23  66 213 253 253 253 253 198  81   2\n",
      "    0   0   0   0   0   0   0   0   0   0]\n",
      " [  0   0   0   0   0   0  18 171 219 253 253 253 253 195  80   9   0   0\n",
      "    0   0   0   0   0   0   0   0   0   0]\n",
      " [  0   0   0   0  55 172 226 253 253 253 253 244 133  11   0   0   0   0\n",
      "    0   0   0   0   0   0   0   0   0   0]\n",
      " [  0   0   0   0 136 253 253 253 212 135 132  16   0   0   0   0   0   0\n",
      "    0   0   0   0   0   0   0   0   0   0]\n",
      " [  0   0   0   0   0   0   0   0   0   0   0   0   0   0   0   0   0   0\n",
      "    0   0   0   0   0   0   0   0   0   0]\n",
      " [  0   0   0   0   0   0   0   0   0   0   0   0   0   0   0   0   0   0\n",
      "    0   0   0   0   0   0   0   0   0   0]\n",
      " [  0   0   0   0   0   0   0   0   0   0   0   0   0   0   0   0   0   0\n",
      "    0   0   0   0   0   0   0   0   0   0]]\n"
     ]
    }
   ],
   "source": [
    "#checking the value of each pixel before normalization\n",
    "print (x_train[0])"
   ]
  },
  {
   "cell_type": "code",
   "execution_count": 11,
   "metadata": {},
   "outputs": [
    {
     "name": "stdout",
     "output_type": "stream",
     "text": [
      "[5 0 4 1 9 2 1 3 1 4 3 5 3 6 1 7 2 8 6 9 4 0 9 1 1 2 4 3 2 7 3 8 6 9 0 5 6\n",
      " 0 7 6 1 8 7 9 3 9 8 5 9 3 3 0 7 4 9 8 0 9 4 1 4 4 6 0 4 5 6 1 0 0 1 7 1 6\n",
      " 3 0 2 1 1 7 9 0 2 6 7 8 3 9 0 4 6 7 4 6 8 0 7 8 3 1 5 7 1 7 1 1 6 3 0 2 9\n",
      " 3 1 1 0 4 9 2 0 0 2 0 2 7 1 8 6 4 1 6 3 4 5 9 1 3 3 8 5 4 7 7 4 2 8 5 8 6\n",
      " 7 3 4 6 1 9 9 6 0 3 7 2 8 2 9 4 4 6 4 9 7 0 9 2 9 5 1 5 9 1 2 3 2 3 5 9 1\n",
      " 7 6 2 8 2 2 5 0 7 4 9 7 8 3 2 1 1 8 3 6 1 0 3 1 0 0 1 7 2 7 3 0 4 6 5 2 6\n",
      " 4 7 1 8 9 9 3 0 7 1 0 2 0 3 5 4 6 5 8 6 3 7 5 8 0 9 1 0 3 1 2 2 3 3 6 4 7\n",
      " 5 0 6 2 7 9 8 5 9 2 1 1 4 4 5 6 4 1 2 5 3 9 3 9 0 5 9 6 5 7 4 1 3 4 0 4 8\n",
      " 0 4 3 6 8 7 6 0 9 7 5 7 2 1 1 6 8 9 4 1 5 2 2 9 0 3 9 6 7 2 0 3 5 4 3 6 5\n",
      " 8 9 5 4 7 4 2 7 3 4 8 9 1 9 2 8 7 9 1 8 7 4 1 3 1 1 0 2 3 9 4 9 2 1 6 8 4\n",
      " 7 7 4 4 9 2 5 7 2 4 4 2 1 9 7 2 8 7 6 9 2 2 3 8 1 6 5 1 1 0 2]\n"
     ]
    }
   ],
   "source": [
    "# Checking the value of dependent variable in dataset.\n",
    "image_index =400\n",
    "print(y_train[:image_index + 1])"
   ]
  },
  {
   "cell_type": "code",
   "execution_count": 12,
   "metadata": {
    "colab": {
     "base_uri": "https://localhost:8080/",
     "height": 286
    },
    "executionInfo": {
     "elapsed": 1255,
     "status": "ok",
     "timestamp": 1645601598116,
     "user": {
      "displayName": "Ismail Khan",
      "photoUrl": "https://lh3.googleusercontent.com/a-/AOh14Gj9Ihtw3wqM33OubLpti-4x4ZuNu85usnNKtDJAVw=s64",
      "userId": "07423027645011472348"
     },
     "user_tz": -660
    },
    "id": "fimdB4bRifqg",
    "outputId": "2b310f7e-b88e-4373-a91f-793651805ab6"
   },
   "outputs": [
    {
     "data": {
      "text/plain": [
       "<matplotlib.image.AxesImage at 0x26990bae370>"
      ]
     },
     "execution_count": 12,
     "metadata": {},
     "output_type": "execute_result"
    },
    {
     "data": {
      "image/png": "[encoded data removed]",
      "text/plain": [
       "<Figure size 432x288 with 4 Axes>"
      ]
     },
     "metadata": {
      "needs_background": "light"
     },
     "output_type": "display_data"
    }
   ],
   "source": [
    "# plot 4 images as gray scale\n",
    "plt.subplot(221)\n",
    "plt.imshow(x_train[0], cmap=plt.get_cmap('gray'))\n",
    "plt.subplot(222)\n",
    "plt.imshow(x_train[1], cmap=plt.get_cmap('gray'))\n",
    "plt.subplot(223)\n",
    "plt.imshow(x_train[2], cmap=plt.get_cmap('gray'))\n",
    "plt.subplot(224)\n",
    "plt.imshow(x_train[3], cmap=plt.get_cmap('gray'))"
   ]
  },
  {
   "cell_type": "code",
   "execution_count": 13,
   "metadata": {},
   "outputs": [
    {
     "data": {
      "image/png": "[encoded data removed]",
      "text/plain": [
       "<Figure size 1440x1440 with 100 Axes>"
      ]
     },
     "metadata": {
      "needs_background": "light"
     },
     "output_type": "display_data"
    }
   ],
   "source": [
    "\n",
    "# Define a grid for better visualization of data in grid arrangement of 10x10.\n",
    "num_of_sample= []\n",
    "num_cols = 10  # Different classes of each digits are defined i.e.more than 1000, but we are just choosing 10 \n",
    "num_class = 10  # Number of digits from 0 to 9\n",
    "\n",
    "fig,axs = plt.subplots(nrows = num_class, ncols = num_cols, figsize = (20,20))\n",
    "fig.tight_layout()\n",
    "\n",
    "for i in range(num_cols):\n",
    "    for j in range(num_class):\n",
    "        x_select = x_train[y_train == j]\n",
    "        import random\n",
    "        axs[j][i].imshow(x_select[random.randint(0, len(x_select-1)),:,:], cmap=plt.get_cmap(\"gray\"))\n",
    "        axs[j][i].axis(\"off\") # Only digits pixel will be displayed.\n",
    "        if i == 5:\n",
    "            axs[j][i].set_title('Number: '+ str(j)) # Display target value above the image.\n",
    "            num_of_sample.append(len(x_select))"
   ]
  },
  {
   "cell_type": "code",
   "execution_count": 14,
   "metadata": {},
   "outputs": [
    {
     "name": "stdout",
     "output_type": "stream",
     "text": [
      "[5923, 6742, 5958, 6131, 5842, 5421, 5918, 6265, 5851, 5949]\n"
     ]
    }
   ],
   "source": [
    "print(num_of_sample)   # To check number of handwritten digits from training data."
   ]
  },
  {
   "cell_type": "code",
   "execution_count": 15,
   "metadata": {},
   "outputs": [
    {
     "data": {
      "text/plain": [
       "Text(0, 0.5, 'num_of_images')"
      ]
     },
     "execution_count": 15,
     "metadata": {},
     "output_type": "execute_result"
    },
    {
     "data": {
      "image/png": "[encoded data removed]",
      "text/plain": [
       "<Figure size 1296x432 with 1 Axes>"
      ]
     },
     "metadata": {
      "needs_background": "light"
     },
     "output_type": "display_data"
    }
   ],
   "source": [
    "# To check distribution of handwritten digit images from training dataset in bar graph.\n",
    "plt.figure(figsize= (18,6))\n",
    "plt.bar(range(0,num_class),num_of_sample)\n",
    "plt.title(\"Distribution of training dataset\")\n",
    "plt.xlabel(\"num_class\")\n",
    "plt.ylabel(\"num_of_images\")"
   ]
  },
  {
   "cell_type": "markdown",
   "metadata": {},
   "source": [
    "From the above graph it depicts that highest number of images(more than 6500) belongs to num_calss 1."
   ]
  },
  {
   "cell_type": "code",
   "execution_count": 16,
   "metadata": {},
   "outputs": [],
   "source": [
    "## Data Preprocessing"
   ]
  },
  {
   "cell_type": "code",
   "execution_count": 17,
   "metadata": {
    "executionInfo": {
     "elapsed": 320,
     "status": "ok",
     "timestamp": 1645601601098,
     "user": {
      "displayName": "Ismail Khan",
      "photoUrl": "https://lh3.googleusercontent.com/a-/AOh14Gj9Ihtw3wqM33OubLpti-4x4ZuNu85usnNKtDJAVw=s64",
      "userId": "07423027645011472348"
     },
     "user_tz": -660
    },
    "id": "OnY8v_gvpeLw"
   },
   "outputs": [],
   "source": [
    "#creating a simple multi-layer perceptron model\n",
    "from keras.datasets import mnist\n",
    "from keras.models import Sequential\n",
    "from keras.layers import Dense\n",
    "from keras.layers import Dropout\n",
    "from keras.utils import np_utils"
   ]
  },
  {
   "cell_type": "code",
   "execution_count": 18,
   "metadata": {
    "executionInfo": {
     "elapsed": 2,
     "status": "ok",
     "timestamp": 1645601603366,
     "user": {
      "displayName": "Ismail Khan",
      "photoUrl": "https://lh3.googleusercontent.com/a-/AOh14Gj9Ihtw3wqM33OubLpti-4x4ZuNu85usnNKtDJAVw=s64",
      "userId": "07423027645011472348"
     },
     "user_tz": -660
    },
    "id": "JdmvTPU2lPsX"
   },
   "outputs": [],
   "source": [
    "# flatten 28*28 images to a 784 vector for each image\n",
    "num_pixels = x_train.shape[1] * x_train.shape[2]\n",
    "x_train = x_train.reshape((x_train.shape[0], num_pixels)).astype('float32')\n",
    "x_test = x_test.reshape((x_test.shape[0], num_pixels)).astype('float32')"
   ]
  },
  {
   "cell_type": "code",
   "execution_count": 19,
   "metadata": {
    "executionInfo": {
     "elapsed": 1317,
     "status": "ok",
     "timestamp": 1645601607032,
     "user": {
      "displayName": "Ismail Khan",
      "photoUrl": "https://lh3.googleusercontent.com/a-/AOh14Gj9Ihtw3wqM33OubLpti-4x4ZuNu85usnNKtDJAVw=s64",
      "userId": "07423027645011472348"
     },
     "user_tz": -660
    },
    "id": "pAyUam8up0KE"
   },
   "outputs": [],
   "source": [
    "# normalize inputs from 0-255 to 0-1\n",
    "x_train = x_train / 255   # Since RGB values can range from 0 to 255,so divide each pixel value by 255.\n",
    "x_test = x_test / 255"
   ]
  },
  {
   "cell_type": "code",
   "execution_count": 20,
   "metadata": {
    "colab": {
     "base_uri": "https://localhost:8080/"
    },
    "executionInfo": {
     "elapsed": 4,
     "status": "ok",
     "timestamp": 1645601607033,
     "user": {
      "displayName": "Ismail Khan",
      "photoUrl": "https://lh3.googleusercontent.com/a-/AOh14Gj9Ihtw3wqM33OubLpti-4x4ZuNu85usnNKtDJAVw=s64",
      "userId": "07423027645011472348"
     },
     "user_tz": -660
    },
    "id": "KMFmK9djqUsk",
    "outputId": "8047ece9-d2b7-4b61-9717-ed64bd0c8208"
   },
   "outputs": [
    {
     "data": {
      "text/plain": [
       "10"
      ]
     },
     "execution_count": 20,
     "metadata": {},
     "output_type": "execute_result"
    }
   ],
   "source": [
    "#To convert the dependent variable in the form of integers to a binary class matrix.\n",
    "# one hot encode outputs\n",
    "y_train = np_utils.to_categorical(y_train)\n",
    "y_test = np_utils.to_categorical(y_test)\n",
    "num_classes = y_test.shape[1]\n",
    "num_classes"
   ]
  },
  {
   "cell_type": "markdown",
   "metadata": {
    "id": "rhto-IXif-09"
   },
   "source": [
    "# Model development"
   ]
  },
  {
   "cell_type": "code",
   "execution_count": 21,
   "metadata": {
    "executionInfo": {
     "elapsed": 273,
     "status": "ok",
     "timestamp": 1645601628287,
     "user": {
      "displayName": "Ismail Khan",
      "photoUrl": "https://lh3.googleusercontent.com/a-/AOh14Gj9Ihtw3wqM33OubLpti-4x4ZuNu85usnNKtDJAVw=s64",
      "userId": "07423027645011472348"
     },
     "user_tz": -660
    },
    "id": "8HxuM0mBqdda"
   },
   "outputs": [],
   "source": [
    "# define baseline model for simple multi-layer perceptron model\n",
    "def baseline_model():\n",
    "\t# create model\n",
    "\tmodel = Sequential()\n",
    "\tmodel.add(Dense(num_pixels, input_dim=num_pixels, kernel_initializer='normal', activation='relu'))\n",
    "\tmodel.add(Dense(num_classes, kernel_initializer='normal', activation='softmax'))\n",
    "\t# Compile model\n",
    "\tmodel.compile(loss='categorical_crossentropy', optimizer='adam', metrics=['accuracy'])\n",
    "\treturn model"
   ]
  },
  {
   "cell_type": "code",
   "execution_count": 22,
   "metadata": {
    "colab": {
     "base_uri": "https://localhost:8080/"
    },
    "executionInfo": {
     "elapsed": 84389,
     "status": "ok",
     "timestamp": 1645601716401,
     "user": {
      "displayName": "Ismail Khan",
      "photoUrl": "https://lh3.googleusercontent.com/a-/AOh14Gj9Ihtw3wqM33OubLpti-4x4ZuNu85usnNKtDJAVw=s64",
      "userId": "07423027645011472348"
     },
     "user_tz": -660
    },
    "id": "f2ef617a",
    "outputId": "897f487c-50dd-483e-b77f-e76e3c4505ca"
   },
   "outputs": [
    {
     "name": "stdout",
     "output_type": "stream",
     "text": [
      "Epoch 1/10\n",
      "300/300 - 5s - loss: 0.2830 - accuracy: 0.9190 - val_loss: 0.1512 - val_accuracy: 0.9548 - 5s/epoch - 15ms/step\n",
      "Epoch 2/10\n",
      "300/300 - 3s - loss: 0.1110 - accuracy: 0.9675 - val_loss: 0.0928 - val_accuracy: 0.9722 - 3s/epoch - 12ms/step\n",
      "Epoch 3/10\n",
      "300/300 - 4s - loss: 0.0701 - accuracy: 0.9803 - val_loss: 0.0755 - val_accuracy: 0.9772 - 4s/epoch - 12ms/step\n",
      "Epoch 4/10\n",
      "300/300 - 3s - loss: 0.0500 - accuracy: 0.9858 - val_loss: 0.0656 - val_accuracy: 0.9787 - 3s/epoch - 11ms/step\n",
      "Epoch 5/10\n",
      "300/300 - 3s - loss: 0.0377 - accuracy: 0.9894 - val_loss: 0.0674 - val_accuracy: 0.9783 - 3s/epoch - 11ms/step\n",
      "Epoch 6/10\n",
      "300/300 - 3s - loss: 0.0262 - accuracy: 0.9929 - val_loss: 0.0581 - val_accuracy: 0.9818 - 3s/epoch - 11ms/step\n",
      "Epoch 7/10\n",
      "300/300 - 3s - loss: 0.0191 - accuracy: 0.9953 - val_loss: 0.0587 - val_accuracy: 0.9817 - 3s/epoch - 11ms/step\n",
      "Epoch 8/10\n",
      "300/300 - 3s - loss: 0.0144 - accuracy: 0.9966 - val_loss: 0.0609 - val_accuracy: 0.9818 - 3s/epoch - 11ms/step\n",
      "Epoch 9/10\n",
      "300/300 - 3s - loss: 0.0107 - accuracy: 0.9981 - val_loss: 0.0571 - val_accuracy: 0.9824 - 3s/epoch - 11ms/step\n",
      "Epoch 10/10\n",
      "300/300 - 3s - loss: 0.0074 - accuracy: 0.9986 - val_loss: 0.0572 - val_accuracy: 0.9828 - 3s/epoch - 11ms/step\n",
      "Baseline Error: 1.72%\n"
     ]
    }
   ],
   "source": [
    "# build the model\n",
    "model = baseline_model()\n",
    "# Fit the model\n",
    "history= model.fit(x_train, y_train, validation_data=(x_test, y_test), epochs=10, batch_size=200, verbose=2)\n",
    "# Final evaluation of the model\n",
    "scores = model.evaluate(x_test, y_test, verbose=0)\n",
    "print(\"Baseline Error: %.2f%%\" % (100-scores[1]*100))\n",
    "# Save the model for prediction\n",
    "model1= model.save('test_model1.h5')"
   ]
  },
  {
   "cell_type": "code",
   "execution_count": 23,
   "metadata": {},
   "outputs": [
    {
     "name": "stdout",
     "output_type": "stream",
     "text": [
      "CNN Error: 1.72%\n",
      "Test score: 0.05719127133488655\n",
      "Test accuracy: 0.9828000068664551\n"
     ]
    }
   ],
   "source": [
    "# Final evaluation of the model\n",
    "scores = model.evaluate(x_test, y_test, verbose=0)\n",
    "print(\"CNN Error: %.2f%%\" % (100-scores[1]*100))\n",
    "#score =model.evaluate(X_test,y_test, verbose=0)\n",
    "print('Test score:',scores[0])\n",
    "print('Test accuracy:',scores[1])"
   ]
  },
  {
   "cell_type": "markdown",
   "metadata": {},
   "source": [
    "### Visualize Model_1 performance"
   ]
  },
  {
   "cell_type": "code",
   "execution_count": 24,
   "metadata": {},
   "outputs": [
    {
     "data": {
      "text/plain": [
       "Text(0.5, 0, 'epochs')"
      ]
     },
     "execution_count": 24,
     "metadata": {},
     "output_type": "execute_result"
    },
    {
     "data": {
      "image/png": "[encoded data removed]",
      "text/plain": [
       "<Figure size 432x288 with 1 Axes>"
      ]
     },
     "metadata": {
      "needs_background": "light"
     },
     "output_type": "display_data"
    }
   ],
   "source": [
    "plt.plot(history.history['accuracy'])\n",
    "plt.plot(history.history['val_accuracy'])\n",
    "plt.legend(['accuracy','val_accuracy'])\n",
    "plt.title('Accuracy')\n",
    "plt.xlabel('epochs')"
   ]
  },
  {
   "cell_type": "code",
   "execution_count": 25,
   "metadata": {
    "scrolled": true
   },
   "outputs": [
    {
     "data": {
      "text/plain": [
       "Text(0.5, 0, 'epochs')"
      ]
     },
     "execution_count": 25,
     "metadata": {},
     "output_type": "execute_result"
    },
    {
     "data": {
      "image/png": "[encoded data removed]",
      "text/plain": [
       "<Figure size 432x288 with 1 Axes>"
      ]
     },
     "metadata": {
      "needs_background": "light"
     },
     "output_type": "display_data"
    }
   ],
   "source": [
    "plt.plot(history.history['loss'])\n",
    "plt.plot(history.history['val_loss'])\n",
    "plt.legend(['loss','val_loss'])\n",
    "plt.title('loss')\n",
    "plt.xlabel('epochs')"
   ]
  },
  {
   "cell_type": "code",
   "execution_count": 26,
   "metadata": {
    "colab": {
     "base_uri": "https://localhost:8080/"
    },
    "executionInfo": {
     "elapsed": 325702,
     "status": "ok",
     "timestamp": 1645602042089,
     "user": {
      "displayName": "Ismail Khan",
      "photoUrl": "https://lh3.googleusercontent.com/a-/AOh14Gj9Ihtw3wqM33OubLpti-4x4ZuNu85usnNKtDJAVw=s64",
      "userId": "07423027645011472348"
     },
     "user_tz": -660
    },
    "id": "ad814725",
    "outputId": "b52f809b-7846-4f98-ff2d-08ad327681b6",
    "scrolled": true
   },
   "outputs": [
    {
     "name": "stdout",
     "output_type": "stream",
     "text": [
      "Epoch 1/10\n",
      "300/300 [==============================] - 25s 81ms/step - loss: 0.2386 - accuracy: 0.9310 - val_loss: 0.0915 - val_accuracy: 0.9730\n",
      "Epoch 2/10\n",
      "300/300 [==============================] - 23s 77ms/step - loss: 0.0760 - accuracy: 0.9773 - val_loss: 0.0562 - val_accuracy: 0.9813\n",
      "Epoch 3/10\n",
      "300/300 [==============================] - 23s 77ms/step - loss: 0.0537 - accuracy: 0.9837 - val_loss: 0.0452 - val_accuracy: 0.9857\n",
      "Epoch 4/10\n",
      "300/300 [==============================] - 23s 77ms/step - loss: 0.0412 - accuracy: 0.9873 - val_loss: 0.0434 - val_accuracy: 0.9855\n",
      "Epoch 5/10\n",
      "300/300 [==============================] - 24s 79ms/step - loss: 0.0326 - accuracy: 0.9900 - val_loss: 0.0359 - val_accuracy: 0.9876\n",
      "Epoch 6/10\n",
      "300/300 [==============================] - 23s 78ms/step - loss: 0.0275 - accuracy: 0.9913 - val_loss: 0.0346 - val_accuracy: 0.9880\n",
      "Epoch 7/10\n",
      "300/300 [==============================] - 24s 79ms/step - loss: 0.0230 - accuracy: 0.9930 - val_loss: 0.0351 - val_accuracy: 0.9883\n",
      "Epoch 8/10\n",
      "300/300 [==============================] - 23s 78ms/step - loss: 0.0186 - accuracy: 0.9943 - val_loss: 0.0349 - val_accuracy: 0.9896\n",
      "Epoch 9/10\n",
      "300/300 [==============================] - 23s 78ms/step - loss: 0.0170 - accuracy: 0.9947 - val_loss: 0.0326 - val_accuracy: 0.9907\n",
      "Epoch 10/10\n",
      "300/300 [==============================] - 23s 78ms/step - loss: 0.0149 - accuracy: 0.9953 - val_loss: 0.0315 - val_accuracy: 0.9905\n",
      "CNN Error: 0.95%\n"
     ]
    }
   ],
   "source": [
    "# Simple CNN for the MNIST Dataset\n",
    "from keras.datasets import mnist\n",
    "from keras.models import Sequential\n",
    "from keras.layers import Dense\n",
    "from keras.layers import Dropout\n",
    "from keras.layers import Flatten\n",
    "from keras.layers.convolutional import Conv2D\n",
    "from keras.layers.convolutional import MaxPooling2D\n",
    "from keras.utils import np_utils\n",
    "# load data\n",
    "(X_train, y_train), (X_test, y_test) = mnist.load_data()\n",
    "# reshape to be [samples][width][height][channels]\n",
    "X_train = X_train.reshape((X_train.shape[0], 28, 28, 1)).astype('float32')\n",
    "X_test = X_test.reshape((X_test.shape[0], 28, 28, 1)).astype('float32')\n",
    "# normalize inputs from 0-255 to 0-1\n",
    "X_train = X_train / 255\n",
    "X_test = X_test / 255\n",
    "# one hot encode outputs\n",
    "y_train = np_utils.to_categorical(y_train)\n",
    "y_test = np_utils.to_categorical(y_test)\n",
    "num_classes = y_test.shape[1]\n",
    "# define a simple CNN model\n",
    "def baseline_model():\n",
    "\t# create model\n",
    "\tmodel = Sequential()\n",
    "\tmodel.add(Conv2D(32, (5, 5), input_shape=(28, 28, 1), activation='relu'))\n",
    "\tmodel.add(MaxPooling2D())\n",
    "\tmodel.add(Dropout(0.2))\n",
    "\tmodel.add(Flatten())\n",
    "\tmodel.add(Dense(128, activation='relu'))\n",
    "\tmodel.add(Dense(num_classes, activation='softmax'))\n",
    "# Compile model\n",
    "\tmodel.compile(loss='categorical_crossentropy', optimizer='adam', metrics=['accuracy'])\n",
    "\treturn model\n",
    "# build the model\n",
    "model = baseline_model()\n",
    "# Fit the model\n",
    "history2= model.fit(X_train, y_train, validation_data=(X_test, y_test), epochs=10, batch_size=200)\n",
    "# Final evaluation of the model\n",
    "scores = model.evaluate(X_test, y_test, verbose=0)\n",
    "print(\"CNN Error: %.2f%%\" % (100-scores[1]*100))\n",
    "# Save the model for prediction\n",
    "model2= model.save('test2_model.h5')"
   ]
  },
  {
   "cell_type": "code",
   "execution_count": 27,
   "metadata": {
    "scrolled": false
   },
   "outputs": [
    {
     "name": "stdout",
     "output_type": "stream",
     "text": [
      "CNN Error: 0.95%\n",
      "Test score: 0.03146704286336899\n",
      "Test accuracy: 0.9904999732971191\n"
     ]
    }
   ],
   "source": [
    "# Final evaluation of the model\n",
    "\n",
    "print(\"CNN Error: %.2f%%\" % (100-scores[1]*100))\n",
    "score =model.evaluate(X_test,y_test, verbose=0)\n",
    "print('Test score:',scores[0])\n",
    "print('Test accuracy:',scores[1])"
   ]
  },
  {
   "cell_type": "markdown",
   "metadata": {},
   "source": [
    "### This slightly larger model achieves the respectable classification error rate of 0.99%."
   ]
  },
  {
   "cell_type": "code",
   "execution_count": 28,
   "metadata": {},
   "outputs": [],
   "source": [
    "### Visualize Model_2 performance"
   ]
  },
  {
   "cell_type": "code",
   "execution_count": 29,
   "metadata": {},
   "outputs": [
    {
     "data": {
      "text/plain": [
       "Text(0.5, 0, 'epochs')"
      ]
     },
     "execution_count": 29,
     "metadata": {},
     "output_type": "execute_result"
    },
    {
     "data": {
      "image/png": "[encoded data removed]",
      "text/plain": [
       "<Figure size 432x288 with 1 Axes>"
      ]
     },
     "metadata": {
      "needs_background": "light"
     },
     "output_type": "display_data"
    }
   ],
   "source": [
    "plt.plot(history2.history['accuracy'])\n",
    "plt.plot(history2.history['val_accuracy'])\n",
    "plt.legend(['accuracy','val_accuracy'])\n",
    "plt.title('Accuracy')\n",
    "plt.xlabel('epochs')"
   ]
  },
  {
   "cell_type": "code",
   "execution_count": 30,
   "metadata": {},
   "outputs": [
    {
     "data": {
      "text/plain": [
       "Text(0.5, 0, 'epochs')"
      ]
     },
     "execution_count": 30,
     "metadata": {},
     "output_type": "execute_result"
    },
    {
     "data": {
      "image/png": "[encoded data removed]",
      "text/plain": [
       "<Figure size 432x288 with 1 Axes>"
      ]
     },
     "metadata": {
      "needs_background": "light"
     },
     "output_type": "display_data"
    }
   ],
   "source": [
    "plt.plot(history2.history['loss'])\n",
    "plt.plot(history2.history['val_loss'])\n",
    "plt.legend(['loss','val_loss'])\n",
    "plt.title('loss')\n",
    "plt.xlabel('epochs')"
   ]
  },
  {
   "cell_type": "code",
   "execution_count": 31,
   "metadata": {},
   "outputs": [],
   "source": [
    "# Testing of Model"
   ]
  },
  {
   "cell_type": "code",
   "execution_count": 33,
   "metadata": {},
   "outputs": [
    {
     "data": {
      "text/plain": [
       "<matplotlib.image.AxesImage at 0x2699a24fd90>"
      ]
     },
     "execution_count": 33,
     "metadata": {},
     "output_type": "execute_result"
    },
    {
     "data": {
      "image/png": "[encoded data removed]",
      "text/plain": [
       "<Figure size 432x288 with 1 Axes>"
      ]
     },
     "metadata": {
      "needs_background": "light"
     },
     "output_type": "display_data"
    }
   ],
   "source": [
    "import imageio\n",
    "im=imageio.imread(\"https://i.imgur.com/a3Rql9C.png\")\n",
    "plt.imshow(im, cmap = plt.get_cmap('gray'))"
   ]
  },
  {
   "cell_type": "code",
   "execution_count": 34,
   "metadata": {
    "scrolled": true
   },
   "outputs": [
    {
     "data": {
      "image/png": "[encoded data removed]",
      "text/plain": [
       "<Figure size 432x288 with 1 Axes>"
      ]
     },
     "metadata": {
      "needs_background": "light"
     },
     "output_type": "display_data"
    }
   ],
   "source": [
    "gray = np.dot(im[...,:3], [0.299, 0.587, 0.114])\n",
    "plt.imshow(gray, cmap = plt.get_cmap('gray'))\n",
    "plt.show()"
   ]
  },
  {
   "cell_type": "code",
   "execution_count": 35,
   "metadata": {},
   "outputs": [],
   "source": [
    "# reshape the image\n",
    "gray = gray.reshape(1, 28, 28, 1)\n",
    "# Normalizing the image by scaling \n",
    "gray_scale= gray/255      "
   ]
  },
  {
   "cell_type": "code",
   "execution_count": 36,
   "metadata": {},
   "outputs": [
    {
     "name": "stdout",
     "output_type": "stream",
     "text": [
      "3\n"
     ]
    }
   ],
   "source": [
    "# load the model\n",
    "from keras.models import load_model\n",
    "model = load_model(\"test2_model.h5\")\n",
    "\n",
    "# predict digit\n",
    "prediction = model.predict(gray)\n",
    "print(prediction.argmax())"
   ]
  },
  {
   "cell_type": "code",
   "execution_count": null,
   "metadata": {},
   "outputs": [],
   "source": [
    "### By Using opencv method"
   ]
  },
  {
   "cell_type": "code",
   "execution_count": 37,
   "metadata": {},
   "outputs": [
    {
     "data": {
      "text/plain": [
       "<matplotlib.image.AxesImage at 0x2699a82e8e0>"
      ]
     },
     "execution_count": 37,
     "metadata": {},
     "output_type": "execute_result"
    },
    {
     "data": {
      "image/png": "[encoded data removed]",
      "text/plain": [
       "<Figure size 432x288 with 1 Axes>"
      ]
     },
     "metadata": {
      "needs_background": "light"
     },
     "output_type": "display_data"
    }
   ],
   "source": [
    "import io\n",
    "import requests\n",
    "import PIL\n",
    "from PIL import Image\n",
    "\n",
    "url = 'http://www.clker.com/cliparts/Q/v/R/1/g/M/number-3-simple-square-black-md.png'  #any image from internet URL can be pasted here\n",
    "output = requests.get(url, stream=True)\n",
    "img = Image.open(output.raw)\n",
    "plt.imshow(img, cmap=plt.get_cmap('gray'))"
   ]
  },
  {
   "cell_type": "code",
   "execution_count": 38,
   "metadata": {},
   "outputs": [
    {
     "name": "stdout",
     "output_type": "stream",
     "text": [
      "(28, 28)\n"
     ]
    },
    {
     "data": {
      "text/plain": [
       "<matplotlib.image.AxesImage at 0x2699a9138e0>"
      ]
     },
     "execution_count": 38,
     "metadata": {},
     "output_type": "execute_result"
    },
    {
     "data": {
      "image/png": "[encoded data removed]",
      "text/plain": [
       "<Figure size 432x288 with 1 Axes>"
      ]
     },
     "metadata": {
      "needs_background": "light"
     },
     "output_type": "display_data"
    }
   ],
   "source": [
    "# resizing the raw image from its actual dimension to (28*28), since our model is trained and validated for 28*28 dimension\n",
    "\n",
    "import cv2 \n",
    "img = np.asarray(img)\n",
    "resized = cv2.resize(img, (28, 28))\n",
    "gray_sc = cv2.cvtColor(resized,cv2.COLOR_BGR2GRAY)    # to convert from 3D to 2D\n",
    "print(gray_sc.shape)\n",
    "plt.imshow(gray_sc,cmap=plt.get_cmap(\"gray\"))"
   ]
  },
  {
   "cell_type": "code",
   "execution_count": 39,
   "metadata": {},
   "outputs": [
    {
     "name": "stdout",
     "output_type": "stream",
     "text": [
      "predicted digit: [[0. 0. 0. 1. 0. 0. 0. 0. 0. 0.]]\n"
     ]
    }
   ],
   "source": [
    "prediction=model.predict(gray) \n",
    "print(\"predicted digit:\", str(prediction))"
   ]
  },
  {
   "cell_type": "code",
   "execution_count": 40,
   "metadata": {},
   "outputs": [
    {
     "name": "stdout",
     "output_type": "stream",
     "text": [
      "3\n"
     ]
    }
   ],
   "source": [
    "prediction = model.predict(gray)\n",
    "print(prediction.argmax())"
   ]
  },
  {
   "cell_type": "code",
   "execution_count": null,
   "metadata": {},
   "outputs": [],
   "source": [
    "# As above models does not performed very well on some classes,Let's optimise the model"
   ]
  },
  {
   "cell_type": "code",
   "execution_count": 41,
   "metadata": {},
   "outputs": [
    {
     "name": "stdout",
     "output_type": "stream",
     "text": [
      "Epoch 1/10\n",
      "300/300 [==============================] - 25s 82ms/step - loss: 0.0117 - accuracy: 0.9962 - val_loss: 0.0327 - val_accuracy: 0.9896\n",
      "Epoch 2/10\n",
      "300/300 [==============================] - 24s 80ms/step - loss: 0.0104 - accuracy: 0.9968 - val_loss: 0.0325 - val_accuracy: 0.9902\n",
      "Epoch 3/10\n",
      "300/300 [==============================] - 24s 79ms/step - loss: 0.0098 - accuracy: 0.9967 - val_loss: 0.0330 - val_accuracy: 0.9907\n",
      "Epoch 4/10\n",
      "300/300 [==============================] - 23s 78ms/step - loss: 0.0087 - accuracy: 0.9970 - val_loss: 0.0367 - val_accuracy: 0.9898\n",
      "Epoch 5/10\n",
      "300/300 [==============================] - 23s 78ms/step - loss: 0.0076 - accuracy: 0.9976 - val_loss: 0.0352 - val_accuracy: 0.9900\n",
      "Epoch 6/10\n",
      "300/300 [==============================] - 23s 78ms/step - loss: 0.0076 - accuracy: 0.9975 - val_loss: 0.0334 - val_accuracy: 0.9903\n",
      "Epoch 7/10\n",
      "300/300 [==============================] - 23s 78ms/step - loss: 0.0066 - accuracy: 0.9977 - val_loss: 0.0365 - val_accuracy: 0.9891\n",
      "Epoch 8/10\n",
      "300/300 [==============================] - 23s 77ms/step - loss: 0.0046 - accuracy: 0.9984 - val_loss: 0.0415 - val_accuracy: 0.9890\n",
      "Epoch 9/10\n",
      "300/300 [==============================] - 23s 77ms/step - loss: 0.0062 - accuracy: 0.9980 - val_loss: 0.0415 - val_accuracy: 0.9896\n",
      "Epoch 10/10\n",
      "300/300 [==============================] - 23s 77ms/step - loss: 0.0040 - accuracy: 0.9987 - val_loss: 0.0378 - val_accuracy: 0.9902\n",
      "CNN Error: 0.98%\n"
     ]
    }
   ],
   "source": [
    "# Model3\n",
    "from keras.datasets import mnist\n",
    "from keras.models import Sequential\n",
    "from keras.layers import Dense\n",
    "from keras.layers import Dropout\n",
    "from keras.layers import Flatten\n",
    "from keras.layers.convolutional import Conv2D\n",
    "from keras.layers.convolutional import MaxPooling2D\n",
    "from keras.utils import np_utils\n",
    "# load data\n",
    "(X_train, y_train), (X_test, y_test) = mnist.load_data()\n",
    "# reshape to be [samples][width][height][channels]\n",
    "X_train = X_train.reshape((X_train.shape[0], 28, 28, 1)).astype('float32')\n",
    "X_test = X_test.reshape((X_test.shape[0], 28, 28, 1)).astype('float32')\n",
    "# normalize inputs from 0-255 to 0-1\n",
    "X_train = X_train / 255\n",
    "X_test = X_test / 255\n",
    "# one hot encode outputs\n",
    "y_train = np_utils.to_categorical(y_train)\n",
    "y_test = np_utils.to_categorical(y_test)\n",
    "num_classes = y_test.shape[1]\n",
    "# define a simple CNN model\n",
    "def baseline_model():\n",
    "\t# create model\n",
    "\tmodel = Sequential()\n",
    "\tmodel.add(Conv2D(32, (5, 5), input_shape=(28, 28, 1), activation='relu'))\n",
    "\tmodel.add(MaxPooling2D())\n",
    "\tmodel.add(Dropout(0.2))\n",
    "\tmodel.add(Flatten())\n",
    "\tmodel.add(Dense(100, activation='relu'))\n",
    "\tmodel.add(Dense(num_classes, activation='softmax'))\n",
    "# Compile model\n",
    "\tmodel.compile(loss='sparse_categorical_crossentropy', optimizer='adam', metrics=['accuracy'])\n",
    "\treturn model\n",
    "# build the model\n",
    "model3 = baseline_model()\n",
    "# Fit the model\n",
    "history3= model.fit(X_train, y_train, validation_data=(X_test, y_test), epochs=10, batch_size=200)\n",
    "# Final evaluation of the model\n",
    "scores = model.evaluate(X_test, y_test, verbose=0)\n",
    "print(\"CNN Error: %.2f%%\" % (100-scores[1]*100))\n",
    "# Save the model for prediction\n",
    "model3= model.save('test3_model.h5')"
   ]
  },
  {
   "cell_type": "code",
   "execution_count": 42,
   "metadata": {},
   "outputs": [
    {
     "name": "stdout",
     "output_type": "stream",
     "text": [
      "CNN Error: 0.98%\n",
      "Test score: 0.0378398522734642\n",
      "Test accuracy: 0.9901999831199646\n"
     ]
    }
   ],
   "source": [
    "# Final evaluation of the model\n",
    "scores = model.evaluate(X_test, y_test, verbose=0)\n",
    "print(\"CNN Error: %.2f%%\" % (100-scores[1]*100))\n",
    "#score =model.evaluate(X_test,y_test, verbose=0)\n",
    "print('Test score:',scores[0])\n",
    "print('Test accuracy:',scores[1])"
   ]
  },
  {
   "cell_type": "markdown",
   "metadata": {},
   "source": [
    "## Testing optmised Model  For Prediction "
   ]
  },
  {
   "cell_type": "code",
   "execution_count": 43,
   "metadata": {},
   "outputs": [
    {
     "data": {
      "text/plain": [
       "<matplotlib.image.AxesImage at 0x269998fedf0>"
      ]
     },
     "execution_count": 43,
     "metadata": {},
     "output_type": "execute_result"
    },
    {
     "data": {
      "image/png": "[encoded data removed]",
      "text/plain": [
       "<Figure size 288x288 with 1 Axes>"
      ]
     },
     "metadata": {
      "needs_background": "light"
     },
     "output_type": "display_data"
    }
   ],
   "source": [
    "# Digit visualisation for prediction at index 50.\n",
    "plt.matshow(X_test[50])"
   ]
  },
  {
   "cell_type": "code",
   "execution_count": 44,
   "metadata": {},
   "outputs": [
    {
     "data": {
      "text/plain": [
       "array([5.3900187e-12, 8.1984701e-13, 4.0580973e-16, 1.5448141e-12,\n",
       "       2.6290720e-11, 6.8758965e-08, 9.9999988e-01, 5.0793549e-20,\n",
       "       3.0169856e-10, 7.7823981e-15], dtype=float32)"
      ]
     },
     "execution_count": 44,
     "metadata": {},
     "output_type": "execute_result"
    }
   ],
   "source": [
    "# Make the predictions\n",
    "y_predicted = model.predict(X_test)\n",
    "y_predicted[50]"
   ]
  },
  {
   "cell_type": "code",
   "execution_count": 45,
   "metadata": {},
   "outputs": [
    {
     "name": "stdout",
     "output_type": "stream",
     "text": [
      "[5.3900187e-12 8.1984701e-13 4.0580973e-16 1.5448141e-12 2.6290720e-11\n",
      " 6.8758965e-08 9.9999988e-01 5.0793549e-20 3.0169856e-10 7.7823981e-15]\n"
     ]
    },
    {
     "data": {
      "image/png": "[encoded data removed]",
      "text/plain": [
       "<Figure size 432x288 with 1 Axes>"
      ]
     },
     "metadata": {
      "needs_background": "light"
     },
     "output_type": "display_data"
    }
   ],
   "source": [
    "plt.imshow(X_test[50],cmap =plt.cm.binary) #this is binary image and its size is 28*28\n",
    "print(y_predicted[50]) # To print the label of X_test image"
   ]
  },
  {
   "cell_type": "markdown",
   "metadata": {},
   "source": [
    "## Conclusion\n",
    "In this project, We applied deep learning concept and created a Neural network with Keras library using Tensorflow as backend to classify Handwritten Digits by using MNIST dataset.\n",
    "Although we reached an accuracy of 98%, There are still opportunities for improvement."
   ]
  },
  {
   "cell_type": "code",
   "execution_count": null,
   "metadata": {},
   "outputs": [],
   "source": []
  },
  {
   "cell_type": "code",
   "execution_count": null,
   "metadata": {},
   "outputs": [],
   "source": []
  },
  {
   "cell_type": "markdown",
   "metadata": {},
   "source": []
  }
 ],
 "metadata": {
  "colab": {
   "authorship_tag": "ABX9TyOWZhb3ldABXIgPiWQiDIxt",
   "collapsed_sections": [],
   "name": "HandwrittenScriptClassification.ipynb",
   "provenance": []
  },
  "kernelspec": {
   "display_name": "Python 3",
   "language": "python",
   "name": "python3"
  },
  "language_info": {
   "codemirror_mode": {
    "name": "ipython",
    "version": 3
   },
   "file_extension": ".py",
   "mimetype": "text/x-python",
   "name": "python",
   "nbconvert_exporter": "python",
   "pygments_lexer": "ipython3",
   "version": "3.8.8"
  }
 },
 "nbformat": 4,
 "nbformat_minor": 1
}
